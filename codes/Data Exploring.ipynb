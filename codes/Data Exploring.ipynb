{
 "cells": [
  {
   "cell_type": "code",
   "execution_count": 1,
   "id": "e50c6604",
   "metadata": {},
   "outputs": [],
   "source": [
    "# Adapted from https://www.kaggle.com/code/awsaf49/detect-fake-text-kerasnlp-tf-torch-jax-train\n",
    "import pandas as pd\n",
    "import matplotlib.pyplot as plt\n",
    "import matplotlib as mpl\n",
    "cmap = mpl.cm.get_cmap(\"coolwarm\")"
   ]
  },
  {
   "cell_type": "code",
   "execution_count": 2,
   "id": "575fc422",
   "metadata": {},
   "outputs": [],
   "source": [
    "class CFG:\n",
    "#     verbose = 0  # Verbosity\n",
    "    \n",
    "#     wandb = True  # Weights & Biases logging\n",
    "#     competition = 'llm-detect-ai-generated-text'  # Competition name\n",
    "#     _wandb_kernel = 'awsaf49'  # WandB kernel\n",
    "#     comment = 'DebertaV3-MaxSeq_200-ext_s-torch'  # Comment description\n",
    "    \n",
    "#     preset = \"deberta_v3_base_en\"  # Name of pretrained models\n",
    "    sequence_length = 200  # Input sequence length\n",
    "    \n",
    "    device = 'TPU'  # Device\n",
    "    \n",
    "    seed = 42  # Random seed\n",
    "    \n",
    "#     num_folds = 5  # Total folds\n",
    "#     selected_folds = [0, 1, 2]  # Folds to train on\n",
    "    \n",
    "#     epochs = 3 # Training epochs\n",
    "#     batch_size = 3  # Batch size\n",
    "#     drop_remainder = True  # Drop incomplete batches\n",
    "#     cache = True # Caches data after one iteration, use only with `TPU` to avoid OOM\n",
    "    \n",
    "#     scheduler = 'cosine'  # Learning rate scheduler\n",
    "    \n",
    "    class_names = [\"real\", \"fake\"]  # Class names [A, B, C, D, E]\n",
    "    num_classes = len(class_names)  # Number of classes\n",
    "    class_labels = list(range(num_classes))  # Class labels [0, 1, 2, 3, 4]\n",
    "    label2name = dict(zip(class_labels, class_names))  # Label to class name mapping\n",
    "    name2label = {v: k for k, v in label2name.items()}  # Class name to label mapping"
   ]
  },
  {
   "cell_type": "code",
   "execution_count": 3,
   "id": "59d62c3d",
   "metadata": {},
   "outputs": [],
   "source": [
    "BASE_PATH = \"/media/cybertron/fa54fcb6-b5e1-492e-978a-6389519c168a/llm_detect/dataset\"\n",
    "\n",
    "df = pd.read_csv(f\"{BASE_PATH}/train_essays.csv\")\n",
    "df['label'] = df.generated.copy()\n",
    "df['name'] = df.generated.map(CFG.label2name)"
   ]
  },
  {
   "cell_type": "code",
   "execution_count": 6,
   "id": "23259e1d",
   "metadata": {},
   "outputs": [
    {
     "name": "stdout",
     "output_type": "stream",
     "text": [
      "# Train Data: 1,378\n"
     ]
    },
    {
     "data": {
      "text/html": [
       "<div>\n",
       "<style scoped>\n",
       "    .dataframe tbody tr th:only-of-type {\n",
       "        vertical-align: middle;\n",
       "    }\n",
       "\n",
       "    .dataframe tbody tr th {\n",
       "        vertical-align: top;\n",
       "    }\n",
       "\n",
       "    .dataframe thead th {\n",
       "        text-align: right;\n",
       "    }\n",
       "</style>\n",
       "<table border=\"1\" class=\"dataframe\">\n",
       "  <thead>\n",
       "    <tr style=\"text-align: right;\">\n",
       "      <th></th>\n",
       "      <th>id</th>\n",
       "      <th>prompt_id</th>\n",
       "      <th>text</th>\n",
       "      <th>generated</th>\n",
       "      <th>label</th>\n",
       "      <th>name</th>\n",
       "    </tr>\n",
       "  </thead>\n",
       "  <tbody>\n",
       "    <tr>\n",
       "      <th>0</th>\n",
       "      <td>0059830c</td>\n",
       "      <td>0</td>\n",
       "      <td>Cars. Cars have been around since they became ...</td>\n",
       "      <td>0</td>\n",
       "      <td>0</td>\n",
       "      <td>real</td>\n",
       "    </tr>\n",
       "    <tr>\n",
       "      <th>1</th>\n",
       "      <td>005db917</td>\n",
       "      <td>0</td>\n",
       "      <td>Transportation is a large necessity in most co...</td>\n",
       "      <td>0</td>\n",
       "      <td>0</td>\n",
       "      <td>real</td>\n",
       "    </tr>\n",
       "  </tbody>\n",
       "</table>\n",
       "</div>"
      ],
      "text/plain": [
       "         id  prompt_id                                               text  \\\n",
       "0  0059830c          0  Cars. Cars have been around since they became ...   \n",
       "1  005db917          0  Transportation is a large necessity in most co...   \n",
       "\n",
       "   generated  label  name  \n",
       "0          0      0  real  \n",
       "1          0      0  real  "
      ]
     },
     "metadata": {},
     "output_type": "display_data"
    },
    {
     "data": {
      "image/png": "[encoded data removed]",
      "text/plain": [
       "<Figure size 576x288 with 1 Axes>"
      ]
     },
     "metadata": {
      "needs_background": "light"
     },
     "output_type": "display_data"
    }
   ],
   "source": [
    "print(\"# Train Data: {:,}\".format(len(df)))\n",
    "display(df.head(2))\n",
    "# Show distribution of answers using a bar plot\n",
    "plt.figure(figsize=(8, 4))\n",
    "#df.name.value_counts().plot.bar(color=[cmap(0.0), cmap(0.25), cmap(0.65), cmap(0.9), cmap(1.0)])\n",
    "df.name.value_counts().plot.bar()\n",
    "plt.xlabel(\"Class\")\n",
    "plt.ylabel(\"Count\")\n",
    "plt.title(\"Class distribution for Train Data\")\n",
    "plt.show()"
   ]
  },
  {
   "cell_type": "code",
   "execution_count": 5,
   "id": "c207b669",
   "metadata": {},
   "outputs": [
    {
     "data": {
      "text/plain": [
       "<AxesSubplot:>"
      ]
     },
     "execution_count": 5,
     "metadata": {},
     "output_type": "execute_result"
    },
    {
     "data": {
      "image/png": "[encoded data removed]",
      "text/plain": [
       "<Figure size 432x288 with 1 Axes>"
      ]
     },
     "metadata": {
      "needs_background": "light"
     },
     "output_type": "display_data"
    }
   ],
   "source": []
  },
  {
   "cell_type": "markdown",
   "id": "94f0d46e",
   "metadata": {},
   "source": [
    "## external data"
   ]
  },
  {
   "cell_type": "code",
   "execution_count": 14,
   "id": "97d8d18a",
   "metadata": {},
   "outputs": [
    {
     "data": {
      "text/html": [
       "<div>\n",
       "<style scoped>\n",
       "    .dataframe tbody tr th:only-of-type {\n",
       "        vertical-align: middle;\n",
       "    }\n",
       "\n",
       "    .dataframe tbody tr th {\n",
       "        vertical-align: top;\n",
       "    }\n",
       "\n",
       "    .dataframe thead th {\n",
       "        text-align: right;\n",
       "    }\n",
       "</style>\n",
       "<table border=\"1\" class=\"dataframe\">\n",
       "  <thead>\n",
       "    <tr style=\"text-align: right;\">\n",
       "      <th></th>\n",
       "      <th>essay_id</th>\n",
       "      <th>text</th>\n",
       "      <th>label</th>\n",
       "      <th>source</th>\n",
       "      <th>prompt</th>\n",
       "      <th>fold</th>\n",
       "    </tr>\n",
       "  </thead>\n",
       "  <tbody>\n",
       "    <tr>\n",
       "      <th>0</th>\n",
       "      <td>E897534557AF</td>\n",
       "      <td>In recent years, technology has had a profoun...</td>\n",
       "      <td>1</td>\n",
       "      <td>mistral7binstruct_v2</td>\n",
       "      <td>\\nTask: Write an essay discussing the positive...</td>\n",
       "      <td>1</td>\n",
       "    </tr>\n",
       "    <tr>\n",
       "      <th>1</th>\n",
       "      <td>DFBA34FFE11D</td>\n",
       "      <td>Should students participate in an extracurricu...</td>\n",
       "      <td>0</td>\n",
       "      <td>persuade_corpus</td>\n",
       "      <td>NaN</td>\n",
       "      <td>2</td>\n",
       "    </tr>\n",
       "    <tr>\n",
       "      <th>2</th>\n",
       "      <td>af37ecf5</td>\n",
       "      <td>The electoral college is a symbol of mockery a...</td>\n",
       "      <td>0</td>\n",
       "      <td>train_essays</td>\n",
       "      <td>NaN</td>\n",
       "      <td>5</td>\n",
       "    </tr>\n",
       "    <tr>\n",
       "      <th>3</th>\n",
       "      <td>5EC2696BAD78</td>\n",
       "      <td>This is why I think the principle should allow...</td>\n",
       "      <td>0</td>\n",
       "      <td>persuade_corpus</td>\n",
       "      <td>NaN</td>\n",
       "      <td>8</td>\n",
       "    </tr>\n",
       "    <tr>\n",
       "      <th>4</th>\n",
       "      <td>llama_70b_v1843</td>\n",
       "      <td>I strongly believe that meditation and mindful...</td>\n",
       "      <td>1</td>\n",
       "      <td>llama_70b_v1</td>\n",
       "      <td>Some schools have implemented meditation and m...</td>\n",
       "      <td>0</td>\n",
       "    </tr>\n",
       "  </tbody>\n",
       "</table>\n",
       "</div>"
      ],
      "text/plain": [
       "          essay_id                                               text  label  \\\n",
       "0     E897534557AF   In recent years, technology has had a profoun...      1   \n",
       "1     DFBA34FFE11D  Should students participate in an extracurricu...      0   \n",
       "2         af37ecf5  The electoral college is a symbol of mockery a...      0   \n",
       "3     5EC2696BAD78  This is why I think the principle should allow...      0   \n",
       "4  llama_70b_v1843  I strongly believe that meditation and mindful...      1   \n",
       "\n",
       "                 source                                             prompt  \\\n",
       "0  mistral7binstruct_v2  \\nTask: Write an essay discussing the positive...   \n",
       "1       persuade_corpus                                                NaN   \n",
       "2          train_essays                                                NaN   \n",
       "3       persuade_corpus                                                NaN   \n",
       "4          llama_70b_v1  Some schools have implemented meditation and m...   \n",
       "\n",
       "   fold  \n",
       "0     1  \n",
       "1     2  \n",
       "2     5  \n",
       "3     8  \n",
       "4     0  "
      ]
     },
     "metadata": {},
     "output_type": "display_data"
    },
    {
     "name": "stdout",
     "output_type": "stream",
     "text": [
      "44206\n",
      "# Train Data: 44,206\n"
     ]
    },
    {
     "data": {
      "text/html": [
       "<div>\n",
       "<style scoped>\n",
       "    .dataframe tbody tr th:only-of-type {\n",
       "        vertical-align: middle;\n",
       "    }\n",
       "\n",
       "    .dataframe tbody tr th {\n",
       "        vertical-align: top;\n",
       "    }\n",
       "\n",
       "    .dataframe thead th {\n",
       "        text-align: right;\n",
       "    }\n",
       "</style>\n",
       "<table border=\"1\" class=\"dataframe\">\n",
       "  <thead>\n",
       "    <tr style=\"text-align: right;\">\n",
       "      <th></th>\n",
       "      <th>essay_id</th>\n",
       "      <th>text</th>\n",
       "      <th>label</th>\n",
       "      <th>source</th>\n",
       "      <th>prompt</th>\n",
       "      <th>fold</th>\n",
       "      <th>name</th>\n",
       "    </tr>\n",
       "  </thead>\n",
       "  <tbody>\n",
       "    <tr>\n",
       "      <th>0</th>\n",
       "      <td>E897534557AF</td>\n",
       "      <td>In recent years, technology has had a profoun...</td>\n",
       "      <td>1</td>\n",
       "      <td>mistral7binstruct_v2</td>\n",
       "      <td>\\nTask: Write an essay discussing the positive...</td>\n",
       "      <td>1</td>\n",
       "      <td>fake</td>\n",
       "    </tr>\n",
       "    <tr>\n",
       "      <th>1</th>\n",
       "      <td>DFBA34FFE11D</td>\n",
       "      <td>Should students participate in an extracurricu...</td>\n",
       "      <td>0</td>\n",
       "      <td>persuade_corpus</td>\n",
       "      <td>NaN</td>\n",
       "      <td>2</td>\n",
       "      <td>real</td>\n",
       "    </tr>\n",
       "  </tbody>\n",
       "</table>\n",
       "</div>"
      ],
      "text/plain": [
       "       essay_id                                               text  label  \\\n",
       "0  E897534557AF   In recent years, technology has had a profoun...      1   \n",
       "1  DFBA34FFE11D  Should students participate in an extracurricu...      0   \n",
       "\n",
       "                 source                                             prompt  \\\n",
       "0  mistral7binstruct_v2  \\nTask: Write an essay discussing the positive...   \n",
       "1       persuade_corpus                                                NaN   \n",
       "\n",
       "   fold  name  \n",
       "0     1  fake  \n",
       "1     2  real  "
      ]
     },
     "metadata": {},
     "output_type": "display_data"
    },
    {
     "data": {
      "image/png": "[encoded data removed]",
      "text/plain": [
       "<Figure size 576x288 with 1 Axes>"
      ]
     },
     "metadata": {
      "needs_background": "light"
     },
     "output_type": "display_data"
    }
   ],
   "source": [
    "EX1 = '/media/cybertron/fa54fcb6-b5e1-492e-978a-6389519c168a/llm_detect/external_dataset/proper_dataset'\n",
    "\n",
    "ef = pd.read_csv(f\"{EX1}/train_drcat_04.csv\")\n",
    "display(ef.head())\n",
    "\n",
    "ef['name'] = ef.label.map(CFG.label2name)\n",
    "\n",
    "print(len(ef))\n",
    "\n",
    "print(\"# Train Data: {:,}\".format(len(ef)))\n",
    "display(ef.head(2))\n",
    "# Show distribution of answers using a bar plot\n",
    "plt.figure(figsize=(8, 4))\n",
    "#df.name.value_counts().plot.bar(color=[cmap(0.0), cmap(0.25), cmap(0.65), cmap(0.9), cmap(1.0)])\n",
    "ef.name.value_counts().plot.bar()\n",
    "plt.xlabel(\"Class\")\n",
    "plt.ylabel(\"Count\")\n",
    "plt.title(\"Class distribution for Train Data\")\n",
    "plt.show()"
   ]
  },
  {
   "cell_type": "code",
   "execution_count": null,
   "id": "4f131336",
   "metadata": {},
   "outputs": [],
   "source": []
  },
  {
   "cell_type": "code",
   "execution_count": null,
   "id": "6f16c33d",
   "metadata": {},
   "outputs": [],
   "source": []
  }
 ],
 "metadata": {
  "kernelspec": {
   "display_name": "Python 3 (ipykernel)",
   "language": "python",
   "name": "python3"
  },
  "language_info": {
   "codemirror_mode": {
    "name": "ipython",
    "version": 3
   },
   "file_extension": ".py",
   "mimetype": "text/x-python",
   "name": "python",
   "nbconvert_exporter": "python",
   "pygments_lexer": "ipython3",
   "version": "3.10.13"
  }
 },
 "nbformat": 4,
 "nbformat_minor": 5
}
