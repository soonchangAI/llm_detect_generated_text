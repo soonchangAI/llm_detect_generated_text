{
 "cells": [
  {
   "cell_type": "code",
   "execution_count": 1,
   "id": "f9bd2fc5-02f9-4ae9-9588-3b3fe9b3e16e",
   "metadata": {},
   "outputs": [
    {
     "name": "stderr",
     "output_type": "stream",
     "text": [
      "/home/cybertron/anaconda3/envs/sgpt/lib/python3.10/site-packages/tqdm/auto.py:21: TqdmWarning: IProgress not found. Please update jupyter and ipywidgets. See https://ipywidgets.readthedocs.io/en/stable/user_install.html\n",
      "  from .autonotebook import tqdm as notebook_tqdm\n"
     ]
    }
   ],
   "source": [
    "from datasets import Dataset\n",
    "from transformers import AutoTokenizer, DataCollatorWithPadding\n",
    "from transformers import AutoModelForSequenceClassification\n",
    "import torch\n",
    "\n",
    "model_checkpoint = '/media/cybertron/fa54fcb6-b5e1-492e-978a-6389519c168a/llm_detect_generated_text/output/bert-finetuned'\n",
    "num_labels=2   \n",
    "model = AutoModelForSequenceClassification.from_pretrained(model_checkpoint, num_labels=num_labels)\n",
    "tokenizer = AutoTokenizer.from_pretrained(model_checkpoint, use_fast=True)"
   ]
  },
  {
   "cell_type": "code",
   "execution_count": 2,
   "id": "683955c8-5554-4385-acf9-c8baf104d092",
   "metadata": {},
   "outputs": [],
   "source": [
    "#tokenizer.save_pretrained('/media/cybertron/fa54fcb6-b5e1-492e-978a-6389519c168a/llm_detect/codes/bert-finetuned')"
   ]
  },
  {
   "cell_type": "code",
   "execution_count": 3,
   "id": "f242f77d-d84c-488d-877f-940470028559",
   "metadata": {},
   "outputs": [
    {
     "name": "stderr",
     "output_type": "stream",
     "text": [
      "Map: 100%|██████████████████████████████████████████████████████████████████████████████████████████████| 3/3 [00:00<00:00, 640.61 examples/s]\n"
     ]
    },
    {
     "data": {
      "text/html": [
       "<div>\n",
       "<style scoped>\n",
       "    .dataframe tbody tr th:only-of-type {\n",
       "        vertical-align: middle;\n",
       "    }\n",
       "\n",
       "    .dataframe tbody tr th {\n",
       "        vertical-align: top;\n",
       "    }\n",
       "\n",
       "    .dataframe thead th {\n",
       "        text-align: right;\n",
       "    }\n",
       "</style>\n",
       "<table border=\"1\" class=\"dataframe\">\n",
       "  <thead>\n",
       "    <tr style=\"text-align: right;\">\n",
       "      <th></th>\n",
       "      <th>id</th>\n",
       "      <th>generated</th>\n",
       "    </tr>\n",
       "  </thead>\n",
       "  <tbody>\n",
       "    <tr>\n",
       "      <th>0</th>\n",
       "      <td>0000aaaa</td>\n",
       "      <td>0.675969</td>\n",
       "    </tr>\n",
       "    <tr>\n",
       "      <th>1</th>\n",
       "      <td>1111bbbb</td>\n",
       "      <td>0.579543</td>\n",
       "    </tr>\n",
       "    <tr>\n",
       "      <th>2</th>\n",
       "      <td>2222cccc</td>\n",
       "      <td>0.730947</td>\n",
       "    </tr>\n",
       "  </tbody>\n",
       "</table>\n",
       "</div>"
      ],
      "text/plain": [
       "         id  generated\n",
       "0  0000aaaa   0.675969\n",
       "1  1111bbbb   0.579543\n",
       "2  2222cccc   0.730947"
      ]
     },
     "execution_count": 3,
     "metadata": {},
     "output_type": "execute_result"
    }
   ],
   "source": [
    "import pandas as pd\n",
    "import numpy as np\n",
    "from torch.utils.data import  DataLoader\n",
    "test = pd.read_csv('/media/cybertron/fa54fcb6-b5e1-492e-978a-6389519c168a/llm_detect_generated_text/dataset/test_essays.csv')\n",
    "dataset = Dataset.from_pandas(test)\n",
    "\n",
    "def preprocess_function(examples):\n",
    "    return tokenizer(examples['text'], max_length=256, padding=True, truncation=True)\n",
    "\n",
    "test_data = dataset.map(preprocess_function, batched=True)\n",
    "test_data = test_data.remove_columns(['prompt_id','text'])\n",
    "test_data.set_format(\"torch\")\n",
    "test_dataloader = DataLoader(test_data, batch_size=1)\n",
    "\n",
    "\n",
    "ids = []\n",
    "gens = []\n",
    "with torch.no_grad():\n",
    "    for batch in test_dataloader:\n",
    "        input_data = {}\n",
    "        for k,v in batch.items():\n",
    "            if k not in ['id']:\n",
    "                input_data[k] = v\n",
    "        \n",
    "        ids.append(batch['id'][0])\n",
    "        prediction = model(**input_data)\n",
    "        logits = prediction.logits.numpy()\n",
    "        probs = np.exp(logits) / np.sum(np.exp(logits), axis=-1, keepdims=True)\n",
    "        gens.append(probs[:,1][0])\n",
    "sub = pd.DataFrame()\n",
    "# print(ids)\n",
    "# print(gens)\n",
    "sub['id'] = ids\n",
    "sub['generated'] = gens\n",
    "sub.to_csv('submission.csv', index=False)\n",
    "sub.head()"
   ]
  },
  {
   "cell_type": "code",
   "execution_count": 4,
   "id": "5630dfae-0b28-4ba3-a7bc-e956f0499783",
   "metadata": {},
   "outputs": [
    {
     "data": {
      "text/plain": [
       "'1.26.0'"
      ]
     },
     "execution_count": 4,
     "metadata": {},
     "output_type": "execute_result"
    }
   ],
   "source": [
    "import numpy as np\n",
    "np.__version__"
   ]
  }
 ],
 "metadata": {
  "kernelspec": {
   "display_name": "Python 3 (ipykernel)",
   "language": "python",
   "name": "python3"
  },
  "language_info": {
   "codemirror_mode": {
    "name": "ipython",
    "version": 3
   },
   "file_extension": ".py",
   "mimetype": "text/x-python",
   "name": "python",
   "nbconvert_exporter": "python",
   "pygments_lexer": "ipython3",
   "version": "3.10.13"
  }
 },
 "nbformat": 4,
 "nbformat_minor": 5
}
