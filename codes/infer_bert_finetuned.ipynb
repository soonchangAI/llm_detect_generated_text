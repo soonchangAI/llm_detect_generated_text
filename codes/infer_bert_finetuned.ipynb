{
 "cells": [
  {
   "cell_type": "code",
   "execution_count": 6,
   "id": "f9bd2fc5-02f9-4ae9-9588-3b3fe9b3e16e",
   "metadata": {},
   "outputs": [],
   "source": [
    "from datasets import Dataset\n",
    "from transformers import AutoTokenizer, DataCollatorWithPadding\n",
    "from transformers import AutoModelForSequenceClassification\n",
    "\n",
    "model_checkpoint = '/media/cybertron/fa54fcb6-b5e1-492e-978a-6389519c168a/llm_detect/codes/bert-finetuned'\n",
    "num_labels=2   \n",
    "model = AutoModelForSequenceClassification.from_pretrained(model_checkpoint, num_labels=num_labels)\n",
    "tokenizer = AutoTokenizer.from_pretrained(model_checkpoint, use_fast=True)"
   ]
  },
  {
   "cell_type": "code",
   "execution_count": 5,
   "id": "683955c8-5554-4385-acf9-c8baf104d092",
   "metadata": {},
   "outputs": [
    {
     "data": {
      "text/plain": [
       "('/media/cybertron/fa54fcb6-b5e1-492e-978a-6389519c168a/llm_detect/codes/bert-finetuned/tokenizer_config.json',\n",
       " '/media/cybertron/fa54fcb6-b5e1-492e-978a-6389519c168a/llm_detect/codes/bert-finetuned/special_tokens_map.json',\n",
       " '/media/cybertron/fa54fcb6-b5e1-492e-978a-6389519c168a/llm_detect/codes/bert-finetuned/vocab.txt',\n",
       " '/media/cybertron/fa54fcb6-b5e1-492e-978a-6389519c168a/llm_detect/codes/bert-finetuned/added_tokens.json',\n",
       " '/media/cybertron/fa54fcb6-b5e1-492e-978a-6389519c168a/llm_detect/codes/bert-finetuned/tokenizer.json')"
      ]
     },
     "execution_count": 5,
     "metadata": {},
     "output_type": "execute_result"
    }
   ],
   "source": [
    "#tokenizer.save_pretrained('/media/cybertron/fa54fcb6-b5e1-492e-978a-6389519c168a/llm_detect/codes/bert-finetuned')"
   ]
  },
  {
   "cell_type": "code",
   "execution_count": 7,
   "id": "f242f77d-d84c-488d-877f-940470028559",
   "metadata": {},
   "outputs": [
    {
     "data": {
      "text/plain": [
       "Dataset({\n",
       "    features: ['id', 'prompt_id', 'text'],\n",
       "    num_rows: 3\n",
       "})"
      ]
     },
     "execution_count": 7,
     "metadata": {},
     "output_type": "execute_result"
    }
   ],
   "source": [
    "import pandas as pd\n",
    "test = pd.read_csv('/media/cybertron/fa54fcb6-b5e1-492e-978a-6389519c168a/llm_detect/dataset/test_essays.csv')\n",
    "dataset = Dataset.from_pandas(test)\n",
    "\n",
    "def preprocess_function(examples):\n",
    "    return tokenizer(examples['text'], max_length=256, padding=True, truncation=True)\n",
    "\n",
    "test_ds_enc = test_ds.map(preprocess_function, batched=True)\n",
    "# tokenized_datasets = dataset.map(preprocess_function,batched=True)\n",
    "\n",
    "# tokenized_datasets = tokenized_datasets.remove_columns(['text', 'prompt_name', 'source', 'RDizzl3_seven'])\n",
    "# tokenized_datasets = tokenized_datasets.rename_column(\"label\",\"labels\")\n",
    "# tokenized_datasets.set_format(\"torch\")\n",
    "# split_datasets = tokenized_datasets.train_test_split(test_size=0.01)\n",
    "\n",
    "# train_dataloader = DataLoader(split_datasets['train'], \n",
    "#                 batch_size=16,\n",
    "#                 pin_memory=True,\n",
    "#                 shuffle=False,\n",
    "#                 sampler=DistributedSampler(split_datasets['train'])\n",
    "#                 )\n",
    "# eval_dataloader = DataLoader(split_datasets['test'], batch_size=16,pin_memory=True,shuffle=False,\n",
    "#                     sampler=DistributedSampler(split_datasets['test']))"
   ]
  }
 ],
 "metadata": {
  "kernelspec": {
   "display_name": "Python 3 (ipykernel)",
   "language": "python",
   "name": "python3"
  },
  "language_info": {
   "codemirror_mode": {
    "name": "ipython",
    "version": 3
   },
   "file_extension": ".py",
   "mimetype": "text/x-python",
   "name": "python",
   "nbconvert_exporter": "python",
   "pygments_lexer": "ipython3",
   "version": "3.10.13"
  }
 },
 "nbformat": 4,
 "nbformat_minor": 5
}
